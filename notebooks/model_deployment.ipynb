{
 "cells": [
  {
   "cell_type": "markdown",
   "metadata": {},
   "source": [
    "## Initial configuration\n",
    "### To start working with this particular notebook, you need to provide necessary credential and settings\n",
    "### Below is an template of configuration, which is necessary prepare aside of this notebook and copy & paste all content in triple quotes to the next cell's input field\n",
    "    \"\"\"\n",
    "    {\n",
    "    \"ML_MODELS_BUCKET\": \"ml-saved-models\",\n",
    "    \"ML_MODELS_BUCKET_CRN\": \"xxx\",\n",
    "    \"CLOUDANT_API_KEY\": \"xxx\",\n",
    "    \"CLOUDANT_URL\": \"xxx\",\n",
    "    \"CLOUDANT_UI_DB_API_KEY\": \"xxx\",\n",
    "    \"CLOUDANT_UI_DB_URL\": \"xxx\",\n",
    "    \"UTILS_BUCKET\": \"notebook-utils-bucket\",\n",
    "    \"BUCKET_TIFF\": \"kenya-images\",\n",
    "    \"HEIGHTS_TIFF_FILENAME\": \"WSF3Dv3_Kenya.tif\",\n",
    "    \"DB_NAME\": \"features_db\",\n",
    "    \"UI_DB_NAME\": \"buildings_db\",\n",
    "    \"COS_ENDPOINT_URL\": \"xxx\",\n",
    "    \"COS_APIKEY\": \"xxx\",\n",
    "    \"TYPE_SOURCE_FILTER\": \"area\",\n",
    "    \"AREA_TRESHOLD\": 0,\n",
    "    \"WML_DEFAULT_SPACE_ID\": \"xxx\",\n",
    "    \"WML_URL\": \"xxx\",\n",
    "    \"WML_APIKEY\": \"xxx\"\n",
    "    }\n",
    "    \"\"\"\n"
   ]
  },
  {
   "cell_type": "code",
   "execution_count": 1,
   "metadata": {},
   "outputs": [
    {
     "name": "stdout",
     "output_type": "stream",
     "text": [
      "Enter your prepared config: ········\n"
     ]
    }
   ],
   "source": [
    "import getpass\n",
    "import json\n",
    "\n",
    "config_str = getpass.getpass('Enter your prepared config: ')\n",
    "config = json.loads(config_str)"
   ]
  },
  {
   "cell_type": "code",
   "execution_count": 2,
   "metadata": {},
   "outputs": [],
   "source": [
    "import ibm_boto3\n",
    "from botocore.client import Config\n",
    "import os\n",
    "import io\n",
    "import keras\n",
    "import tensorflow as tf\n",
    "import tarfile"
   ]
  },
  {
   "cell_type": "markdown",
   "metadata": {},
   "source": [
    "### Download and prepare selected model"
   ]
  },
  {
   "cell_type": "code",
   "execution_count": null,
   "metadata": {},
   "outputs": [],
   "source": [
    "# define COS connection\n",
    "data_conn = ibm_boto3.resource(service_name='s3',\n",
    "    ibm_api_key_id=config[\"COS_APIKEY\"],\n",
    "    ibm_service_instance_id=config[\"ML_MODELS_BUCKET_CRN\"],\n",
    "    ibm_auth_endpoint='https://iam.bluemix.net/oidc/token',\n",
    "    config=Config(signature_version='oauth'),\n",
    "    endpoint_url=config[\"COS_ENDPOINT_URL\"])\n",
    "\n",
    "saved_models_bucket_name = config[\"ML_MODELS_BUCKET\"]\n",
    "\n",
    "saved_models_bucket = data_conn.Bucket(saved_models_bucket_name)\n",
    "saved_models = [obj.key for obj in saved_models_bucket.objects.all()]\n",
    "saved_models"
   ]
  },
  {
   "cell_type": "code",
   "execution_count": 5,
   "metadata": {},
   "outputs": [],
   "source": [
    "# define model name that need to be deployed\n",
    "model_name = 'Finetuned_Eval_Test_Manual__batchsz32_learnrate0.002-0_epochsFE80_epochstune0_dt08_01_2023_01_21_57.h5'\n",
    "base_path = os.getcwd()\n",
    "\n",
    "model_path = os.path.join(base_path, model_name)\n",
    "\n",
    "fobj = data_conn.Object(saved_models_bucket_name, model_name).get()['Body'].read()\n",
    "fobj = io.BytesIO(fobj)\n",
    "with open(model_path, 'wb') as outfile:\n",
    "    outfile.write(fobj.getbuffer())\n"
   ]
  },
  {
   "cell_type": "code",
   "execution_count": 4,
   "metadata": {
    "scrolled": false
   },
   "outputs": [
    {
     "data": {
      "text/plain": [
       "['Finetuned_Eval_Test_Manual__batchsz32_learnrate0.002-0_epochsFE80_epochstune0_dt08_01_2023_01_21_57.h5']"
      ]
     },
     "execution_count": 4,
     "metadata": {},
     "output_type": "execute_result"
    }
   ],
   "source": [
    "os.listdir(base_path)"
   ]
  },
  {
   "cell_type": "code",
   "execution_count": 5,
   "metadata": {},
   "outputs": [],
   "source": [
    "# zip model into tar.gz file\n",
    "zip_model_path = os.path.join(base_path, 'model.tar.gz')\n",
    "tar = tarfile.open(zip_model_path,\"w:gz\")\n",
    "tar.add(model_path, arcname='model.h5')\n",
    "tar.close() "
   ]
  },
  {
   "cell_type": "markdown",
   "metadata": {},
   "source": [
    "### Config Watson ML client"
   ]
  },
  {
   "cell_type": "code",
   "execution_count": null,
   "metadata": {},
   "outputs": [],
   "source": [
    "from ibm_watson_machine_learning import APIClient\n",
    "\n",
    "wml_credentials = {\n",
    "                    \"url\": config[\"WML_URL\"],\n",
    "                    \"apikey\": config[\"WML_APIKEY\"],\n",
    "                  }\n",
    "\n",
    "client = APIClient(wml_credentials)\n",
    "client.spaces.list()"
   ]
  },
  {
   "cell_type": "code",
   "execution_count": 9,
   "metadata": {},
   "outputs": [
    {
     "data": {
      "text/plain": [
       "'SUCCESS'"
      ]
     },
     "execution_count": 9,
     "metadata": {},
     "output_type": "execute_result"
    }
   ],
   "source": [
    "client.set.default_space(config[\"WATSON_ML_DEFAULT_SPACE_ID\"])"
   ]
  },
  {
   "cell_type": "code",
   "execution_count": 10,
   "metadata": {},
   "outputs": [
    {
     "data": {
      "text/plain": [
       "'b56101f1-309d-549b-a849-eaa63f77b2fb'"
      ]
     },
     "execution_count": 10,
     "metadata": {},
     "output_type": "execute_result"
    }
   ],
   "source": [
    "sofware_spec_uid = client.software_specifications.get_id_by_name(\"runtime-22.2-py3.10\")\n",
    "sofware_spec_uid\n"
   ]
  },
  {
   "cell_type": "markdown",
   "metadata": {},
   "source": [
    "### Deploy the model to the Watson Machine Learning"
   ]
  },
  {
   "cell_type": "code",
   "execution_count": 11,
   "metadata": {},
   "outputs": [],
   "source": [
    "metadata = {\n",
    "            client.repository.ModelMetaNames.NAME: 'model_baseline_CFG003',\n",
    "            client.repository.ModelMetaNames.TYPE: 'tensorflow_2.9',\n",
    "            client.repository.ModelMetaNames.SOFTWARE_SPEC_UID: sofware_spec_uid\n",
    "}\n",
    "\n",
    "published_model = client.repository.store_model(\n",
    "    model=zip_model_path,\n",
    "    meta_props=metadata)"
   ]
  }
 ],
 "metadata": {
  "kernelspec": {
   "display_name": "Python 3.10",
   "language": "python",
   "name": "python3"
  },
  "language_info": {
   "codemirror_mode": {
    "name": "ipython",
    "version": 3
   },
   "file_extension": ".py",
   "mimetype": "text/x-python",
   "name": "python",
   "nbconvert_exporter": "python",
   "pygments_lexer": "ipython3",
   "version": "3.10.12"
  }
 },
 "nbformat": 4,
 "nbformat_minor": 1
}
